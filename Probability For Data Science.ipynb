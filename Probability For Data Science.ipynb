{
 "cells": [
  {
   "cell_type": "markdown",
   "id": "aa1c79ba",
   "metadata": {},
   "source": [
    "## What is Probability\n",
    "#### Probability is a measure of the likelihood of an event.\n",
    "- Pr = Number of way an event can occur / Total number of possible outcome."
   ]
  },
  {
   "cell_type": "markdown",
   "id": "83cdebe0",
   "metadata": {},
   "source": [
    "## Set"
   ]
  },
  {
   "cell_type": "markdown",
   "id": "4618e621",
   "metadata": {},
   "source": [
    "## Addition Rule"
   ]
  },
  {
   "cell_type": "markdown",
   "id": "e648a6d3",
   "metadata": {},
   "source": [
    "### Mutual Exclusive Event"
   ]
  },
  {
   "cell_type": "markdown",
   "id": "dd6eab35",
   "metadata": {},
   "source": [
    "### Non Mutual Exclusive Event"
   ]
  },
  {
   "cell_type": "markdown",
   "id": "90dc5684",
   "metadata": {},
   "source": [
    "## Multiplication Rule"
   ]
  },
  {
   "cell_type": "markdown",
   "id": "0eb3af1c",
   "metadata": {},
   "source": [
    "### Independent Event"
   ]
  },
  {
   "cell_type": "markdown",
   "id": "d9cef80e",
   "metadata": {},
   "source": [
    "### Dependent Event"
   ]
  },
  {
   "cell_type": "markdown",
   "id": "84356745",
   "metadata": {},
   "source": [
    "## Conditional Probability"
   ]
  },
  {
   "cell_type": "markdown",
   "id": "dd21f15d",
   "metadata": {},
   "source": [
    "## Combinatorics"
   ]
  },
  {
   "cell_type": "markdown",
   "id": "75a2c662",
   "metadata": {},
   "source": [
    "### Permutation"
   ]
  },
  {
   "cell_type": "markdown",
   "id": "14094e1e",
   "metadata": {},
   "source": [
    "### Combination"
   ]
  },
  {
   "cell_type": "code",
   "execution_count": null,
   "id": "0d41be6d",
   "metadata": {},
   "outputs": [],
   "source": []
  }
 ],
 "metadata": {
  "kernelspec": {
   "display_name": "Python 3 (ipykernel)",
   "language": "python",
   "name": "python3"
  },
  "language_info": {
   "codemirror_mode": {
    "name": "ipython",
    "version": 3
   },
   "file_extension": ".py",
   "mimetype": "text/x-python",
   "name": "python",
   "nbconvert_exporter": "python",
   "pygments_lexer": "ipython3",
   "version": "3.8.10"
  },
  "toc": {
   "base_numbering": 1,
   "nav_menu": {},
   "number_sections": true,
   "sideBar": true,
   "skip_h1_title": false,
   "title_cell": "Table of Contents",
   "title_sidebar": "Contents",
   "toc_cell": false,
   "toc_position": {},
   "toc_section_display": true,
   "toc_window_display": false
  }
 },
 "nbformat": 4,
 "nbformat_minor": 5
}
