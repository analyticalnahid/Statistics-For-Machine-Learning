{
 "cells": [
  {
   "cell_type": "markdown",
   "id": "b17ea85d",
   "metadata": {},
   "source": [
    "## What is Statistics?\n",
    "\n",
    "Statistic is the science of collecting, analyzing & organizing data."
   ]
  },
  {
   "cell_type": "markdown",
   "id": "ec96826d",
   "metadata": {},
   "source": [
    "## Type of Statistics?\n",
    "\n",
    "1. __Descriptive Statistic__: It consist of organizing & summarzing data\n",
    "2. __Inferential Statistic__: Where in we used the data that we have measured to find conclusions"
   ]
  },
  {
   "cell_type": "markdown",
   "id": "b8ed499f",
   "metadata": {},
   "source": [
    "## Population vs Sample"
   ]
  },
  {
   "cell_type": "markdown",
   "id": "62b9d271",
   "metadata": {},
   "source": [
    "## What is Data?\n",
    "\n",
    "Piece of information that can be measured"
   ]
  },
  {
   "cell_type": "markdown",
   "id": "f6eb4993",
   "metadata": {},
   "source": [
    "### Type of Data\n",
    "1. Numerical (Quantitive) \n",
    " - Discrete (Integer) \n",
    " - Continus (Float)\n",
    " \n",
    "2. Categorical (Qualitive)\n",
    " - Ordinal (Order Matter) \n",
    " - Nominal (Order Doesn't Matter)"
   ]
  },
  {
   "cell_type": "markdown",
   "id": "8bd87f14",
   "metadata": {},
   "source": [
    "## What is variable?\n",
    "Variable is a property that can take any value"
   ]
  },
  {
   "cell_type": "markdown",
   "id": "b3b0d448",
   "metadata": {},
   "source": [
    "### Variable Measurement Scale\n",
    "1. Nominal (Order doesn't matter)\n",
    "2. Ordinal (Order matter, Difference can't be measured)\n",
    "3. Interval (Order matter, Difference can be measured, 0 isn't present)\n",
    "4. Ratio (Order matter, Difference measureable, 0 is present)\n",
    "\n",
    "### Nominal\n",
    "### Ordinal \n",
    "### Interval \n",
    "### Ratio"
   ]
  },
  {
   "cell_type": "markdown",
   "id": "d3f5553c",
   "metadata": {},
   "source": [
    "## What is Sampling?"
   ]
  },
  {
   "cell_type": "markdown",
   "id": "71c48807",
   "metadata": {},
   "source": [
    "### Type of sampling\n",
    "1. Stratified Samplig\n",
    "2. Random Sampling\n",
    "3. Systemtic Sampling\n",
    "4. Convenience Sampling\n",
    "\n",
    "### Stratified Samplig\n",
    "### Random Sampling\n",
    "### Systemtic Sampling\n",
    "### Convenience Sampling"
   ]
  },
  {
   "cell_type": "markdown",
   "id": "cc7135bb",
   "metadata": {},
   "source": [
    "## Measure Of Central Tendency\n",
    "Refer to the measure to determine the center of the distribution of data.\n",
    "\n",
    "1. Mean (not work well with outliear) \n",
    "2. Median (work well with outliear)\n",
    "3. Mode (repeat most frequent element)\n",
    "\n",
    "### Mean \n",
    "- Population Mean\n",
    "- Sample Mean\n",
    "\n",
    "### Median\n",
    "\n",
    "### Mode"
   ]
  },
  {
   "cell_type": "markdown",
   "id": "6f48227e",
   "metadata": {},
   "source": [
    "## Measure Of Dispersion/ Spread\n",
    "\n",
    "1. Variance\n",
    "2. Standard Deviation\n",
    "3. Percentile\n",
    "4. Quartile\n",
    "\n",
    "### Variance\n",
    "- Population Variance\n",
    "- Sample Variance\n",
    "\n",
    "### Standard Deviation\n",
    "\n",
    "### Percentile\n",
    "\n",
    "### Quartile\n"
   ]
  },
  {
   "cell_type": "markdown",
   "id": "a4a69c8c",
   "metadata": {},
   "source": [
    "## Covariance\n",
    "- Pearson Correleation Coffecient\n",
    "- Spearman Rank Correlation Coffecient"
   ]
  },
  {
   "cell_type": "markdown",
   "id": "b8876920",
   "metadata": {},
   "source": [
    "## Correlation"
   ]
  },
  {
   "cell_type": "markdown",
   "id": "59bf6499",
   "metadata": {},
   "source": [
    "## Skewness"
   ]
  },
  {
   "cell_type": "markdown",
   "id": "27d03a06",
   "metadata": {},
   "source": [
    "## Kurtosis"
   ]
  },
  {
   "cell_type": "code",
   "execution_count": null,
   "id": "c799aed1",
   "metadata": {},
   "outputs": [],
   "source": []
  },
  {
   "cell_type": "markdown",
   "id": "0055bdba",
   "metadata": {},
   "source": [
    "## Distribution\n",
    "A distribution is a function that show the possible values for a variable and how often they occur."
   ]
  },
  {
   "cell_type": "markdown",
   "id": "0d5f2f11",
   "metadata": {},
   "source": [
    "### Type of distribution\n",
    "1. Discrete Distribution (Probability Mass Function)\n",
    " - Frequency Distribution\n",
    " - Uniform Distribution\n",
    " - Bernoulli Distribution\n",
    " - Binomial Distribution\n",
    " - Poisson Distribution\n",
    "\n",
    "2. Continues Distribution (Probability Density Function)\n",
    " - Normal Distribution (Gaussian Distribution) {Z test}\n",
    " - Standard Normal Distribution {Z test}\n",
    " - Chi-Squared Distribution {Chi-Square test}\n",
    " - Student T-Distribution (T Distribution) {T test}\n",
    " - F Distribution {Anova test}\n",
    " - Power Law Distribution"
   ]
  },
  {
   "cell_type": "markdown",
   "id": "6de45827",
   "metadata": {},
   "source": [
    "## Type of test (Feature Selection)\n",
    "1. One numerical variable (Z test)\n",
    "2. Two numerical variable (Chi-Square test)\n",
    "3. One categorical variable (T test)\n",
    "4. Two categorical variable (Correlation)\n",
    "5. Categorical vs Numerical (Anova test)"
   ]
  },
  {
   "cell_type": "markdown",
   "id": "90806824",
   "metadata": {},
   "source": [
    "## Hypothesis Testing\n",
    "- Null Hypothesis\n",
    "- Alternative Hypothesis\n",
    "\n",
    "### One Tailed Test\n",
    "\n",
    "### Two Tailed Test\n",
    "\n",
    "### Confuion Matrix"
   ]
  },
  {
   "cell_type": "code",
   "execution_count": null,
   "id": "21d81737",
   "metadata": {},
   "outputs": [],
   "source": []
  }
 ],
 "metadata": {
  "kernelspec": {
   "display_name": "Python 3 (ipykernel)",
   "language": "python",
   "name": "python3"
  },
  "language_info": {
   "codemirror_mode": {
    "name": "ipython",
    "version": 3
   },
   "file_extension": ".py",
   "mimetype": "text/x-python",
   "name": "python",
   "nbconvert_exporter": "python",
   "pygments_lexer": "ipython3",
   "version": "3.8.10"
  },
  "toc": {
   "base_numbering": 1,
   "nav_menu": {},
   "number_sections": true,
   "sideBar": true,
   "skip_h1_title": false,
   "title_cell": "Table of Contents",
   "title_sidebar": "Contents",
   "toc_cell": false,
   "toc_position": {},
   "toc_section_display": true,
   "toc_window_display": false
  }
 },
 "nbformat": 4,
 "nbformat_minor": 5
}
